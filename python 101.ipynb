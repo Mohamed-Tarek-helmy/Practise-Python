{
  "nbformat": 4,
  "nbformat_minor": 0,
  "metadata": {
    "colab": {
      "provenance": [],
      "authorship_tag": "ABX9TyP3MK+UhI8M+Wacu8mrVNWq",
      "include_colab_link": true
    },
    "kernelspec": {
      "name": "python3",
      "display_name": "Python 3"
    },
    "language_info": {
      "name": "python"
    }
  },
  "cells": [
    {
      "cell_type": "markdown",
      "metadata": {
        "id": "view-in-github",
        "colab_type": "text"
      },
      "source": [
        "<a href=\"https://colab.research.google.com/github/Mohamed-Tarek-helmy/Practise-Python/blob/main/python%20101.ipynb\" target=\"_parent\"><img src=\"https://colab.research.google.com/assets/colab-badge.svg\" alt=\"Open In Colab\"/></a>"
      ]
    },
    {
      "cell_type": "code",
      "execution_count": 1,
      "metadata": {
        "id": "cY6gr6bBkUhi"
      },
      "outputs": [],
      "source": [
        "x=5 ,z=3"
      ]
    },
    {
      "cell_type": "markdown",
      "source": [],
      "metadata": {
        "id": "0k1IKGvrkkG1"
      }
    },
    {
      "cell_type": "code",
      "source": [
        "#Sum of two variables\n",
        "\n",
        "#Subtraction of two variables\n",
        "# Multiplication of two variables\n",
        "# Exponentiation of a variable\n",
        "# Remainder of a variable\n",
        "# Division of a variable"
      ],
      "metadata": {
        "id": "_DKL-Zq4kWlC"
      },
      "execution_count": 2,
      "outputs": []
    },
    {
      "cell_type": "markdown",
      "source": [
        "# String "
      ],
      "metadata": {
        "id": "yqSromuPpsCf"
      }
    },
    {
      "cell_type": "code",
      "source": [
        "# CREATE STRING thisStringIsAwesome"
      ],
      "metadata": {
        "id": "RDqxfsOnqNjJ"
      },
      "execution_count": null,
      "outputs": []
    },
    {
      "cell_type": "markdown",
      "source": [
        "String Operations"
      ],
      "metadata": {
        "id": "JR9ezOj6pvVf"
      }
    },
    {
      "cell_type": "code",
      "source": [
        "#Add String\n",
        "#Mulitipl String \n",
        "#apply comparison operators TO String\n",
        "# Select item at index 1\n",
        "# Select 3rd last item\n",
        "# Select items at index 1 and 2"
      ],
      "metadata": {
        "id": "Y-shpHtepupE"
      },
      "execution_count": null,
      "outputs": []
    },
    {
      "cell_type": "markdown",
      "source": [
        "String Methods"
      ],
      "metadata": {
        "id": "0rES0wd_qaH-"
      }
    },
    {
      "cell_type": "code",
      "source": [
        "# String to uppercase\n",
        "# String to lowercase\n",
        "# Count String elements\n",
        "# Replace String elements\n",
        "# Strip whitespaces\n",
        "# returns a string where all the characters are lower case.\n",
        "# searches for a specified string, and splits the string into a tuple containing three elements.\n",
        "# The first element contains the part before the specified string.\n",
        "# The second element contains the specified string.\n",
        "# The third element contains the part after the string.\n",
        "# returns True if the string ends with the specified value\n",
        "#returns the position at the first occurrence of the specified value. \n",
        "#finds the first occurrence of the specified value.\n",
        "#returns a string where the first character in every word is upper case\n",
        "#returns a string where the first character is upper case, and the rest is lower case.\n",
        "#splits a string into a list.\n",
        "#returns True if all the characters are alphabet letters (a-z).\n",
        "#returns True if all the characters are digits, otherwise False.\n",
        "# s.is…() tests on chars categories (ex. s.isalpha())\n",
        "# Take all items in an iterable and joins them into one string.\n",
        "\n",
        "\n",
        "\n",
        "# s.swapcase()\n",
        "# s.center([width,fill])\n",
        "# s.ljust([width,fill]) \n",
        "# s.rjust([width,fill]) \n",
        "# s.zfill([width])\n",
        "# s.encode(encoding) \n",
        "# s.join(seq)"
      ],
      "metadata": {
        "id": "iZSTKr0Bplpr"
      },
      "execution_count": null,
      "outputs": []
    },
    {
      "cell_type": "code",
      "source": [
        "#Types and Type Conversion\n",
        "#Variables to strings\n",
        "# Variables to integers\n",
        "# Variables to floats\n",
        "# Variables to booleans"
      ],
      "metadata": {
        "id": "9jN8JTMdkpd1"
      },
      "execution_count": null,
      "outputs": []
    },
    {
      "cell_type": "markdown",
      "source": [
        "# Asking For Help"
      ],
      "metadata": {
        "id": "xSYCc6HvlNA3"
      }
    },
    {
      "cell_type": "markdown",
      "source": [
        "# Lists"
      ],
      "metadata": {
        "id": "a7DFCLSKlWCF"
      }
    },
    {
      "cell_type": "code",
      "source": [
        "a = 'is'\n",
        "b = 'nice'\n",
        "my_list = ['my', 'list', a, b]\n",
        "my_list2 = [[4,5,6,7], [3,4,5,6]]"
      ],
      "metadata": {
        "id": "CpRx10nIlhJD"
      },
      "execution_count": 3,
      "outputs": []
    },
    {
      "cell_type": "markdown",
      "source": [
        "Selecting List Elements "
      ],
      "metadata": {
        "id": "-k6tRTGilpdI"
      }
    },
    {
      "cell_type": "code",
      "source": [
        "# done using ?\n",
        "#Select item at index 1\n",
        "#Select 3rd last item\n",
        "#Select items at index 1 and 2\n",
        "#Select items after index 0\n",
        "#Select items before index 3\n",
        "#Copy my_list\n",
        "#my_list[list][itemOfList]"
      ],
      "metadata": {
        "id": "7UpbWQbflk2d"
      },
      "execution_count": null,
      "outputs": []
    },
    {
      "cell_type": "markdown",
      "source": [
        "List Operations"
      ],
      "metadata": {
        "id": "RQDmacCOmG34"
      }
    },
    {
      "cell_type": "code",
      "source": [
        "#Add lists\n",
        "#Mulitipl lists \n",
        "#apply comparison operators \n",
        "\n",
        "#what is the type of return data ?"
      ],
      "metadata": {
        "id": "QRcDOtblmI61"
      },
      "execution_count": null,
      "outputs": []
    },
    {
      "cell_type": "markdown",
      "source": [
        "List Methods"
      ],
      "metadata": {
        "id": "3BXJNp6WmfRZ"
      }
    },
    {
      "cell_type": "code",
      "source": [
        "#Get the index of an item\n",
        "#Count an item\n",
        "#Append an item at a time\n",
        "#Remove an item BY CHARACHTER \n",
        "#Remove an item using del\n",
        "#Reverse the list\n",
        "#Append an item\n",
        "#Remove an item BY POITION \n",
        "#Insert an item\n",
        "#Sort the list"
      ],
      "metadata": {
        "id": "4hrFMBEImhFa"
      },
      "execution_count": null,
      "outputs": []
    },
    {
      "cell_type": "markdown",
      "source": [
        "# Dictionaries"
      ],
      "metadata": {
        "id": "JBXGdiVjtyG9"
      }
    },
    {
      "cell_type": "markdown",
      "source": [],
      "metadata": {
        "id": "7tLuhbnLt4Fd"
      }
    },
    {
      "cell_type": "markdown",
      "source": [
        "# Numpy Arrays"
      ],
      "metadata": {
        "id": "4f4johNIxDwq"
      }
    },
    {
      "cell_type": "markdown",
      "source": [
        "Creating a NumPy array"
      ],
      "metadata": {
        "id": "rZ8muRG_yCea"
      }
    },
    {
      "cell_type": "code",
      "source": [
        "my_Numpy_list = [1, 2, 3, 4]\n",
        "my_array = np.array(my_Numpy_list)\n",
        "my_2darray = np.array([[1,2,3],[4,5,6]])\n",
        "\n",
        "#Create an array filled with random values\n",
        "# Create the following rank with shape (3, 4)"
      ],
      "metadata": {
        "id": "s1xZOk87xCbu"
      },
      "execution_count": null,
      "outputs": []
    },
    {
      "cell_type": "markdown",
      "source": [
        "Selecting Numpy Array Elements based on index "
      ],
      "metadata": {
        "id": "d4cCBNc5yP4P"
      }
    },
    {
      "cell_type": "code",
      "source": [
        "# Select item at index 1\n",
        "# Select items at index 0 and 1\n",
        "# my_2darray[rows, columns]\n",
        "#type the syntax for selecting the second row.\n",
        "# try selecting the second column with the same manner.\n",
        "# lets select the slice that come from the first two rows and two columns"
      ],
      "metadata": {
        "id": "3-FV1z1fyTVA"
      },
      "execution_count": null,
      "outputs": []
    },
    {
      "cell_type": "markdown",
      "source": [
        "Numpy Array Operations"
      ],
      "metadata": {
        "id": "WaV4ovvIyaNi"
      }
    },
    {
      "cell_type": "code",
      "source": [
        "# add the follwing numpers(5, 6, 7, 8) to array my_Numpy_list"
      ],
      "metadata": {
        "id": "QkNs9ejzyZZL"
      },
      "execution_count": null,
      "outputs": []
    },
    {
      "cell_type": "markdown",
      "source": [
        "Numpy Array Functions"
      ],
      "metadata": {
        "id": "eCJkqdOwyveU"
      }
    },
    {
      "cell_type": "code",
      "source": [
        "# Get the dimensions of the array\n",
        "# Append items to an array\n",
        "# Insert items in an array\n",
        "# Delete items in an array\n",
        "# Mean of the array\n",
        "# Median of the array\n",
        "# Correlation coefficient\n",
        "# Standard deviation"
      ],
      "metadata": {
        "id": "DMuNrDnTyuMy"
      },
      "execution_count": null,
      "outputs": []
    },
    {
      "cell_type": "markdown",
      "source": [
        "Special Types of Arrays"
      ],
      "metadata": {
        "id": "XGSvitxsyKNl"
      }
    },
    {
      "cell_type": "markdown",
      "source": [
        "Boolean Indexing"
      ],
      "metadata": {
        "id": "5xDIdDKf0ZvD"
      }
    }
  ]
}
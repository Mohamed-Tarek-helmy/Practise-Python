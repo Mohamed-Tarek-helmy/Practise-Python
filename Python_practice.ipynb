{
  "nbformat": 4,
  "nbformat_minor": 0,
  "metadata": {
    "colab": {
      "provenance": [],
      "authorship_tag": "ABX9TyPNgazLVz7J8PSKTPHrWBU9",
      "include_colab_link": true
    },
    "kernelspec": {
      "name": "python3",
      "display_name": "Python 3"
    },
    "language_info": {
      "name": "python"
    }
  },
  "cells": [
    {
      "cell_type": "markdown",
      "metadata": {
        "id": "view-in-github",
        "colab_type": "text"
      },
      "source": [
        "<a href=\"https://colab.research.google.com/github/Mohamed-Tarek-helmy/Practise-Python/blob/main/Python_practice.ipynb\" target=\"_parent\"><img src=\"https://colab.research.google.com/assets/colab-badge.svg\" alt=\"Open In Colab\"/></a>"
      ]
    },
    {
      "cell_type": "code",
      "execution_count": 7,
      "metadata": {
        "id": "cY6gr6bBkUhi"
      },
      "outputs": [],
      "source": [
        "x=5 \n",
        "z=3"
      ]
    },
    {
      "cell_type": "markdown",
      "source": [],
      "metadata": {
        "id": "0k1IKGvrkkG1"
      }
    },
    {
      "cell_type": "code",
      "source": [
        "#Sum of two variables\n",
        "q=x+z\n",
        "#Subtraction of two variables\n",
        "w=x-z\n",
        "# Multiplication of two variables\n",
        "e=x*z\n",
        "# Exponentiation of a variable\n",
        "r=x**z\n",
        "# Remainder of a variable\n",
        "a=x%z\n",
        "# Division of a variable\n",
        "s=x/z\n",
        "print(q,w,e,r,a,s)"
      ],
      "metadata": {
        "colab": {
          "base_uri": "https://localhost:8080/"
        },
        "id": "_DKL-Zq4kWlC",
        "outputId": "855904ea-12c4-43b6-d916-ef3425011a46"
      },
      "execution_count": 11,
      "outputs": [
        {
          "output_type": "stream",
          "name": "stdout",
          "text": [
            "8 2 15 125 2 1.6666666666666667\n"
          ]
        }
      ]
    },
    {
      "cell_type": "markdown",
      "source": [
        "# String "
      ],
      "metadata": {
        "id": "yqSromuPpsCf"
      }
    },
    {
      "cell_type": "code",
      "source": [
        "# CREATE STRING thisStringIsAwesome\n",
        "str_X=str('thisStringIsAwesome')\n",
        "str_X"
      ],
      "metadata": {
        "colab": {
          "base_uri": "https://localhost:8080/",
          "height": 35
        },
        "id": "RDqxfsOnqNjJ",
        "outputId": "7acd5c7d-2a4d-4ef6-934e-a0182837d739"
      },
      "execution_count": 13,
      "outputs": [
        {
          "output_type": "execute_result",
          "data": {
            "text/plain": [
              "'thisStringIsAwesome'"
            ],
            "application/vnd.google.colaboratory.intrinsic+json": {
              "type": "string"
            }
          },
          "metadata": {},
          "execution_count": 13
        }
      ]
    },
    {
      "cell_type": "markdown",
      "source": [
        "String Operations"
      ],
      "metadata": {
        "id": "JR9ezOj6pvVf"
      }
    },
    {
      "cell_type": "code",
      "source": [
        "#Add String\n",
        "str_X+str_X\n",
        "#Mulitipl String\n",
        "str_X*5\n",
        "#cant apply comparison operators TO String\n",
        "# str_X>5 error\n",
        "# Select item at index 1\n",
        "str_X[1]\n",
        "# Select 3rd last item\n",
        "str_X[3]\n",
        "# Select items at index 1 and 2\n",
        "str_X[1:3]"
      ],
      "metadata": {
        "colab": {
          "base_uri": "https://localhost:8080/",
          "height": 35
        },
        "id": "Y-shpHtepupE",
        "outputId": "272bb0eb-606f-40e2-ae67-0bacd91877ad"
      },
      "execution_count": 18,
      "outputs": [
        {
          "output_type": "execute_result",
          "data": {
            "text/plain": [
              "'hi'"
            ],
            "application/vnd.google.colaboratory.intrinsic+json": {
              "type": "string"
            }
          },
          "metadata": {},
          "execution_count": 18
        }
      ]
    },
    {
      "cell_type": "markdown",
      "source": [
        "String Methods"
      ],
      "metadata": {
        "id": "0rES0wd_qaH-"
      }
    },
    {
      "cell_type": "code",
      "source": [
        "# String to uppercase\n",
        "str_X.upper()\n"
      ],
      "metadata": {
        "colab": {
          "base_uri": "https://localhost:8080/",
          "height": 35
        },
        "id": "iZSTKr0Bplpr",
        "outputId": "6c28ad78-f654-4220-dfcf-1075d9f1d8a0"
      },
      "execution_count": 19,
      "outputs": [
        {
          "output_type": "execute_result",
          "data": {
            "text/plain": [
              "'THISSTRINGISAWESOME'"
            ],
            "application/vnd.google.colaboratory.intrinsic+json": {
              "type": "string"
            }
          },
          "metadata": {},
          "execution_count": 19
        }
      ]
    },
    {
      "cell_type": "code",
      "source": [
        "# String to lowercase\n",
        "str_X.lower()\n"
      ],
      "metadata": {
        "colab": {
          "base_uri": "https://localhost:8080/",
          "height": 35
        },
        "id": "qRSHSICl6odI",
        "outputId": "1f1e96c2-71d0-42ee-85f4-c637164d8edd"
      },
      "execution_count": 21,
      "outputs": [
        {
          "output_type": "execute_result",
          "data": {
            "text/plain": [
              "'thisstringisawesome'"
            ],
            "application/vnd.google.colaboratory.intrinsic+json": {
              "type": "string"
            }
          },
          "metadata": {},
          "execution_count": 21
        }
      ]
    },
    {
      "cell_type": "code",
      "source": [
        "# Count String elements\n",
        "str_X.count('s')\n"
      ],
      "metadata": {
        "colab": {
          "base_uri": "https://localhost:8080/"
        },
        "id": "yld3pmo76zVc",
        "outputId": "b73de97d-3321-4fd6-82e5-921c50e3f12d"
      },
      "execution_count": 24,
      "outputs": [
        {
          "output_type": "execute_result",
          "data": {
            "text/plain": [
              "3"
            ]
          },
          "metadata": {},
          "execution_count": 24
        }
      ]
    },
    {
      "cell_type": "code",
      "source": [
        "# Replace String elements\n",
        "str_X.replace('s','xxxx')\n"
      ],
      "metadata": {
        "colab": {
          "base_uri": "https://localhost:8080/",
          "height": 35
        },
        "id": "79luo5F465R_",
        "outputId": "eabf0cb7-ce83-4ed5-cdd8-728a822fe664"
      },
      "execution_count": 25,
      "outputs": [
        {
          "output_type": "execute_result",
          "data": {
            "text/plain": [
              "'thixxxxStringIxxxxAwexxxxome'"
            ],
            "application/vnd.google.colaboratory.intrinsic+json": {
              "type": "string"
            }
          },
          "metadata": {},
          "execution_count": 25
        }
      ]
    },
    {
      "cell_type": "code",
      "source": [
        "# Strip whitespaces\n",
        "str_X.strip()\n"
      ],
      "metadata": {
        "colab": {
          "base_uri": "https://localhost:8080/",
          "height": 35
        },
        "id": "uR46BPZ87K_l",
        "outputId": "beed44e7-76e1-4e9a-fc4f-ee10092b8a63"
      },
      "execution_count": 26,
      "outputs": [
        {
          "output_type": "execute_result",
          "data": {
            "text/plain": [
              "'thisStringIsAwesome'"
            ],
            "application/vnd.google.colaboratory.intrinsic+json": {
              "type": "string"
            }
          },
          "metadata": {},
          "execution_count": 26
        }
      ]
    },
    {
      "cell_type": "code",
      "source": [
        "# returns a string where all the characters are lower case.\n",
        "str_X.islower()"
      ],
      "metadata": {
        "colab": {
          "base_uri": "https://localhost:8080/"
        },
        "id": "XDU_J-OO7Rcm",
        "outputId": "da0969c1-8121-4997-f9b8-01fec2e86b58"
      },
      "execution_count": 30,
      "outputs": [
        {
          "output_type": "execute_result",
          "data": {
            "text/plain": [
              "False"
            ]
          },
          "metadata": {},
          "execution_count": 30
        }
      ]
    },
    {
      "cell_type": "code",
      "source": [
        "# searches for a specified string, and splits the string into a tuple containing three elements.\n",
        "# The first element contains the part before the specified string.\n",
        "# The second element contains the specified string.\n",
        "# The third element contains the part after the string.\n",
        "str_X.partition('String') "
      ],
      "metadata": {
        "colab": {
          "base_uri": "https://localhost:8080/"
        },
        "id": "IlZsVF598DBM",
        "outputId": "80b9404b-35b0-4823-c761-7fe984c0fb2e"
      },
      "execution_count": 33,
      "outputs": [
        {
          "output_type": "execute_result",
          "data": {
            "text/plain": [
              "('this', 'String', 'IsAwesome')"
            ]
          },
          "metadata": {},
          "execution_count": 33
        }
      ]
    },
    {
      "cell_type": "code",
      "source": [
        "# returns True if the string ends with the specified value\n",
        "str_X.endswith('s')"
      ],
      "metadata": {
        "colab": {
          "base_uri": "https://localhost:8080/"
        },
        "id": "-1KhPkQx7bVI",
        "outputId": "75ec06b6-c4e2-40c8-8d43-cb1d489c561d"
      },
      "execution_count": 34,
      "outputs": [
        {
          "output_type": "execute_result",
          "data": {
            "text/plain": [
              "False"
            ]
          },
          "metadata": {},
          "execution_count": 34
        }
      ]
    },
    {
      "cell_type": "code",
      "source": [
        "#returns the position at the first occurrence of the specified value. \n",
        "#finds the first occurrence of the specified value.\n",
        "#returns a string where the first character in every word is upper case\n",
        "#returns a string where the first character is upper case, and the rest is lower case.\n",
        "#splits a string into a list.\n",
        "#returns True if all the characters are alphabet letters (a-z).\n",
        "#returns True if all the characters are digits, otherwise False.\n",
        "# s.is…() tests on chars categories (ex. s.isalpha())\n",
        "# Take all items in an iterable and joins them into one string.\n",
        "\n",
        "\n",
        "\n",
        "# s.swapcase()\n",
        "# s.center([width,fill])\n",
        "# s.ljust([width,fill]) \n",
        "# s.rjust([width,fill]) \n",
        "# s.zfill([width])\n",
        "# s.encode(encoding) \n",
        "# s.join(seq)"
      ],
      "metadata": {
        "id": "KMuPqt3A-hL5"
      },
      "execution_count": null,
      "outputs": []
    },
    {
      "cell_type": "code",
      "source": [
        "#Types and Type Conversion\n",
        "#Variables to strings\n",
        "# Variables to integers\n",
        "# Variables to floats\n",
        "# Variables to booleans"
      ],
      "metadata": {
        "id": "9jN8JTMdkpd1"
      },
      "execution_count": null,
      "outputs": []
    },
    {
      "cell_type": "markdown",
      "source": [
        "# Asking For Help"
      ],
      "metadata": {
        "id": "xSYCc6HvlNA3"
      }
    },
    {
      "cell_type": "markdown",
      "source": [
        "# Lists"
      ],
      "metadata": {
        "id": "a7DFCLSKlWCF"
      }
    },
    {
      "cell_type": "code",
      "source": [
        "a = 'is'\n",
        "b = 'nice'\n",
        "my_list = ['my', 'list', a, b]\n",
        "my_list2 = [[4,5,6,7], [3,4,5,6]]"
      ],
      "metadata": {
        "id": "CpRx10nIlhJD"
      },
      "execution_count": 3,
      "outputs": []
    },
    {
      "cell_type": "markdown",
      "source": [
        "Selecting List Elements "
      ],
      "metadata": {
        "id": "-k6tRTGilpdI"
      }
    },
    {
      "cell_type": "code",
      "source": [
        "# done using ?\n",
        "#Select item at index 1\n",
        "#Select 3rd last item\n",
        "#Select items at index 1 and 2\n",
        "#Select items after index 0\n",
        "#Select items before index 3\n",
        "#Copy my_list\n",
        "#my_list[list][itemOfList]"
      ],
      "metadata": {
        "id": "7UpbWQbflk2d"
      },
      "execution_count": null,
      "outputs": []
    },
    {
      "cell_type": "markdown",
      "source": [
        "List Operations"
      ],
      "metadata": {
        "id": "RQDmacCOmG34"
      }
    },
    {
      "cell_type": "code",
      "source": [
        "#Add lists\n",
        "#Mulitipl lists \n",
        "#apply comparison operators \n",
        "\n",
        "#what is the type of return data ?"
      ],
      "metadata": {
        "id": "QRcDOtblmI61"
      },
      "execution_count": null,
      "outputs": []
    },
    {
      "cell_type": "markdown",
      "source": [
        "List Methods"
      ],
      "metadata": {
        "id": "3BXJNp6WmfRZ"
      }
    },
    {
      "cell_type": "code",
      "source": [
        "#Get the index of an item\n",
        "#Count an item\n",
        "#Append an item at a time\n",
        "#Remove an item BY CHARACHTER \n",
        "#Remove an item using del\n",
        "#Reverse the list\n",
        "#Append an item\n",
        "#Remove an item BY POITION \n",
        "#Insert an item\n",
        "#Sort the list"
      ],
      "metadata": {
        "id": "4hrFMBEImhFa"
      },
      "execution_count": null,
      "outputs": []
    },
    {
      "cell_type": "markdown",
      "source": [
        "# Dictionaries"
      ],
      "metadata": {
        "id": "JBXGdiVjtyG9"
      }
    },
    {
      "cell_type": "markdown",
      "source": [],
      "metadata": {
        "id": "7tLuhbnLt4Fd"
      }
    },
    {
      "cell_type": "markdown",
      "source": [
        "# Numpy Arrays"
      ],
      "metadata": {
        "id": "4f4johNIxDwq"
      }
    },
    {
      "cell_type": "markdown",
      "source": [
        "Creating a NumPy array"
      ],
      "metadata": {
        "id": "rZ8muRG_yCea"
      }
    },
    {
      "cell_type": "code",
      "source": [
        "my_Numpy_list = [1, 2, 3, 4]\n",
        "my_array = np.array(my_Numpy_list)\n",
        "my_2darray = np.array([[1,2,3],[4,5,6]])\n",
        "\n",
        "#Create an array filled with random values\n",
        "# Create the following rank with shape (3, 4)"
      ],
      "metadata": {
        "id": "s1xZOk87xCbu"
      },
      "execution_count": null,
      "outputs": []
    },
    {
      "cell_type": "markdown",
      "source": [
        "Selecting Numpy Array Elements based on index "
      ],
      "metadata": {
        "id": "d4cCBNc5yP4P"
      }
    },
    {
      "cell_type": "code",
      "source": [
        "# Select item at index 1\n",
        "# Select items at index 0 and 1\n",
        "# my_2darray[rows, columns]\n",
        "#type the syntax for selecting the second row.\n",
        "# try selecting the second column with the same manner.\n",
        "# lets select the slice that come from the first two rows and two columns"
      ],
      "metadata": {
        "id": "3-FV1z1fyTVA"
      },
      "execution_count": null,
      "outputs": []
    },
    {
      "cell_type": "markdown",
      "source": [
        "Numpy Array Operations"
      ],
      "metadata": {
        "id": "WaV4ovvIyaNi"
      }
    },
    {
      "cell_type": "code",
      "source": [
        "# add the follwing numpers(5, 6, 7, 8) to array my_Numpy_list"
      ],
      "metadata": {
        "id": "QkNs9ejzyZZL"
      },
      "execution_count": null,
      "outputs": []
    },
    {
      "cell_type": "markdown",
      "source": [
        "Numpy Array Functions"
      ],
      "metadata": {
        "id": "eCJkqdOwyveU"
      }
    },
    {
      "cell_type": "code",
      "source": [
        "# Get the dimensions of the array\n",
        "# Append items to an array\n",
        "# Insert items in an array\n",
        "# Delete items in an array\n",
        "# Mean of the array\n",
        "# Median of the array\n",
        "# Correlation coefficient\n",
        "# Standard deviation"
      ],
      "metadata": {
        "id": "DMuNrDnTyuMy"
      },
      "execution_count": null,
      "outputs": []
    },
    {
      "cell_type": "markdown",
      "source": [
        "Special Types of Arrays"
      ],
      "metadata": {
        "id": "XGSvitxsyKNl"
      }
    },
    {
      "cell_type": "markdown",
      "source": [
        "Boolean Indexing"
      ],
      "metadata": {
        "id": "5xDIdDKf0ZvD"
      }
    }
  ]
}